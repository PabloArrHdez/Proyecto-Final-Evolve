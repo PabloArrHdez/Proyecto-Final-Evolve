{
 "cells": [
  {
   "cell_type": "code",
   "execution_count": 7,
   "id": "3472db39",
   "metadata": {},
   "outputs": [],
   "source": [
    "import pandas as pd\n",
    "from sklearn.model_selection import train_test_split\n",
    "from sklearn.preprocessing import StandardScaler, OneHotEncoder\n",
    "from sklearn.compose import ColumnTransformer\n",
    "from sklearn.pipeline import Pipeline\n",
    "from sklearn.linear_model import LogisticRegression\n",
    "from sklearn.impute import SimpleImputer\n",
    "from sklearn.metrics import accuracy_score, confusion_matrix, classification_report\n",
    "import numpy as np"
   ]
  },
  {
   "cell_type": "code",
   "execution_count": 8,
   "id": "e140a5f4",
   "metadata": {},
   "outputs": [],
   "source": [
    "df = pd.read_csv('Data/video_games_sales_completo.csv')"
   ]
  },
  {
   "cell_type": "code",
   "execution_count": 9,
   "id": "732afaf5",
   "metadata": {},
   "outputs": [
    {
     "name": "stdout",
     "output_type": "stream",
     "text": [
      "Index(['Name', 'Platform', 'Year', 'Genre', 'Publisher', 'NA_Sales',\n",
      "       'EU_Sales', 'JP_Sales', 'Other_Sales', 'Global_Sales', 'Ventas_Clase',\n",
      "       'Nota PEGI', 'User Score', 'User Ratings Count', 'Platforms Info',\n",
      "       'Estado_Consola', 'Price', 'Price_Platform', 'Year_Consola',\n",
      "       'Play Time', 'Modo Juego', 'Años_desde_lanzamiento_consola',\n",
      "       'Precio_relativo', 'PEGI_categoria', 'Duracion_juego_cat',\n",
      "       'Nombre_Base', 'Es_Saga', 'Tipo_Saga', 'Situacion_Economica'],\n",
      "      dtype='object')\n"
     ]
    }
   ],
   "source": [
    "print(df.columns)"
   ]
  },
  {
   "cell_type": "code",
   "execution_count": 10,
   "id": "2b6e8700",
   "metadata": {},
   "outputs": [],
   "source": [
    "X = df.drop(columns=['Ventas_Clase', 'Global_Sales', 'NA_Sales', 'EU_Sales', 'JP_Sales', 'Other_Sales', 'Name', 'Platforms Info', 'Nota PEGI','Play Time','Es_Saga'])  \n",
    "y = df['Ventas_Clase']"
   ]
  },
  {
   "cell_type": "code",
   "execution_count": 11,
   "id": "5011c71a",
   "metadata": {},
   "outputs": [
    {
     "name": "stdout",
     "output_type": "stream",
     "text": [
      "Exactitud: 0.6756867568675686\n",
      "Matriz de confusión:\n",
      "[[ 124   98  268]\n",
      " [  16 2445  421]\n",
      " [  54  725  727]]\n",
      "Reporte de clasificación:\n",
      "              precision    recall  f1-score   support\n",
      "\n",
      "        Alta       0.64      0.25      0.36       490\n",
      "        Baja       0.75      0.85      0.80      2882\n",
      "       Media       0.51      0.48      0.50      1506\n",
      "\n",
      "    accuracy                           0.68      4878\n",
      "   macro avg       0.63      0.53      0.55      4878\n",
      "weighted avg       0.66      0.68      0.66      4878\n",
      "\n"
     ]
    },
    {
     "name": "stderr",
     "output_type": "stream",
     "text": [
      "c:\\Users\\pablo\\miniconda3\\envs\\proyecto_final\\Lib\\site-packages\\sklearn\\preprocessing\\_encoders.py:246: UserWarning: Found unknown categories in columns [1, 3] during transform. These unknown categories will be encoded as all zeros\n",
      "  warnings.warn(\n"
     ]
    }
   ],
   "source": [
    "\n",
    "# Dividir el conjunto de datos en entrenamiento y prueba\n",
    "X_train, X_test, y_train, y_test = train_test_split(X, y, test_size=0.3, random_state=42, stratify=y)\n",
    "\n",
    "# Definir las columnas categóricas para One-Hot Encoding\n",
    "categorical_columns = ['Platform', 'Year', 'Genre', 'Publisher', 'PEGI_categoria', 'Estado_Consola', 'Year_Consola', 'Modo Juego', 'Duracion_juego_cat','Tipo_Saga']\n",
    "\n",
    "# Crear un transformador para las columnas categóricas (One-Hot Encoding)\n",
    "preprocessor = ColumnTransformer(\n",
    "    transformers=[\n",
    "        ('cat', OneHotEncoder(drop='first', handle_unknown='ignore'), categorical_columns),  # One-Hot Encoding en las columnas categóricas\n",
    "        ('num', StandardScaler(), X.select_dtypes(include=['float64', 'int64']).columns)  # Escalado en columnas numéricas\n",
    "    ])\n",
    "\n",
    "# Crear el pipeline que primero realiza la transformación y luego aplica el modelo\n",
    "pipeline = Pipeline(steps=[\n",
    "    ('preprocessor', preprocessor),\n",
    "    ('classifier', LogisticRegression(max_iter=300))\n",
    "])\n",
    "\n",
    "# Entrenar el modelo\n",
    "pipeline.fit(X_train, y_train)\n",
    "\n",
    "# Hacer predicciones\n",
    "y_pred = pipeline.predict(X_test)\n",
    "\n",
    "# Evaluar el modelo\n",
    "print(f\"Exactitud: {accuracy_score(y_test, y_pred)}\")\n",
    "print(\"Matriz de confusión:\")\n",
    "print(confusion_matrix(y_test, y_pred))\n",
    "print(\"Reporte de clasificación:\")\n",
    "print(classification_report(y_test, y_pred))"
   ]
  },
  {
   "cell_type": "code",
   "execution_count": 12,
   "id": "4a46ee2f",
   "metadata": {},
   "outputs": [
    {
     "name": "stdout",
     "output_type": "stream",
     "text": [
      "Accuracy del modelo: 0.68\n"
     ]
    }
   ],
   "source": [
    "accuracy = accuracy_score(y_test, y_pred)\n",
    "print(f\"Accuracy del modelo: {accuracy:.2f}\")"
   ]
  }
 ],
 "metadata": {
  "kernelspec": {
   "display_name": "proyecto_final",
   "language": "python",
   "name": "python3"
  },
  "language_info": {
   "codemirror_mode": {
    "name": "ipython",
    "version": 3
   },
   "file_extension": ".py",
   "mimetype": "text/x-python",
   "name": "python",
   "nbconvert_exporter": "python",
   "pygments_lexer": "ipython3",
   "version": "3.13.2"
  }
 },
 "nbformat": 4,
 "nbformat_minor": 5
}
