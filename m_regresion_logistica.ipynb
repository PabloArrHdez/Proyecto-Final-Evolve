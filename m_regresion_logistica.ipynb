{
 "cells": [
  {
   "cell_type": "code",
   "execution_count": 45,
   "id": "3472db39",
   "metadata": {},
   "outputs": [],
   "source": [
    "import pandas as pd\n",
    "from sklearn.model_selection import train_test_split\n",
    "from sklearn.preprocessing import StandardScaler, OneHotEncoder\n",
    "from sklearn.compose import ColumnTransformer\n",
    "from sklearn.pipeline import Pipeline\n",
    "from sklearn.linear_model import LogisticRegression\n",
    "from sklearn.impute import SimpleImputer\n",
    "from sklearn.metrics import accuracy_score, confusion_matrix, classification_report"
   ]
  },
  {
   "cell_type": "code",
   "execution_count": 46,
   "id": "e140a5f4",
   "metadata": {},
   "outputs": [],
   "source": [
    "df = pd.read_csv('Data/video_games_sales_completo.csv')"
   ]
  },
  {
   "cell_type": "code",
   "execution_count": 47,
   "id": "732afaf5",
   "metadata": {},
   "outputs": [
    {
     "name": "stdout",
     "output_type": "stream",
     "text": [
      "Index(['Name', 'Platform', 'Year', 'Genre', 'Publisher', 'NA_Sales',\n",
      "       'EU_Sales', 'JP_Sales', 'Other_Sales', 'Global_Sales', 'Ventas_Clase',\n",
      "       'Nota PEGI', 'User Score', 'User Ratings Count', 'Platforms Info',\n",
      "       'Estado_Consola', 'Price', 'Price_Platform', 'Year_Consola',\n",
      "       'Play Time', 'Modo Juego', 'Años_desde_lanzamiento_consola',\n",
      "       'Precio_relativo', 'PEGI_categoria', 'Duracion_juego_cat'],\n",
      "      dtype='object')\n"
     ]
    }
   ],
   "source": [
    "print(df.columns)"
   ]
  },
  {
   "cell_type": "code",
   "execution_count": 50,
   "id": "5011c71a",
   "metadata": {},
   "outputs": [
    {
     "name": "stdout",
     "output_type": "stream",
     "text": [
      "Exactitud: 0.502460024600246\n",
      "Matriz de confusión:\n",
      "[[199 122  63 278]\n",
      " [ 66 936  16 277]\n",
      " [117  30  90  78]\n",
      " [160 382  29 409]]\n",
      "Reporte de clasificación:\n",
      "              precision    recall  f1-score   support\n",
      "\n",
      "        Alta       0.37      0.30      0.33       662\n",
      "        Baja       0.64      0.72      0.68      1295\n",
      "  Gran Éxito       0.45      0.29      0.35       315\n",
      "       Media       0.39      0.42      0.40       980\n",
      "\n",
      "    accuracy                           0.50      3252\n",
      "   macro avg       0.46      0.43      0.44      3252\n",
      "weighted avg       0.49      0.50      0.49      3252\n",
      "\n"
     ]
    },
    {
     "name": "stderr",
     "output_type": "stream",
     "text": [
      "c:\\Users\\pablo\\miniconda3\\envs\\proyecto_final\\Lib\\site-packages\\sklearn\\preprocessing\\_encoders.py:246: UserWarning: Found unknown categories in columns [1, 3] during transform. These unknown categories will be encoded as all zeros\n",
      "  warnings.warn(\n"
     ]
    }
   ],
   "source": [
    "# Definicion de variables\n",
    "X = df.drop(columns=['Ventas_Clase', 'Global_Sales', 'NA_Sales', 'EU_Sales', 'JP_Sales', 'Other_Sales', 'Name', 'User Ratings Count', 'Platforms Info', 'Nota PEGI','Play Time'])  # Variables independientes\n",
    "y = df['Ventas_Clase']                                  # Variable dependiente\n",
    "\n",
    "# Dividir el conjunto de datos en entrenamiento y prueba\n",
    "X_train, X_test, y_train, y_test = train_test_split(X, y, test_size=0.2, random_state=42)\n",
    "\n",
    "# Definir las columnas categóricas para One-Hot Encoding\n",
    "categorical_columns = ['Platform', 'Year', 'Genre', 'Publisher', 'PEGI_categoria', 'Estado_Consola', 'Year_Consola', 'Modo Juego', 'Duracion_juego_cat']\n",
    "\n",
    "# Crear un transformador para las columnas categóricas (One-Hot Encoding)\n",
    "preprocessor = ColumnTransformer(\n",
    "    transformers=[\n",
    "        ('cat', OneHotEncoder(drop='first', handle_unknown='ignore'), categorical_columns),  # One-Hot Encoding en las columnas categóricas\n",
    "        ('num', StandardScaler(), X.select_dtypes(include=['float64', 'int64']).columns)  # Escalado en columnas numéricas\n",
    "    ])\n",
    "\n",
    "# Crear el pipeline que primero realiza la transformación y luego aplica el modelo\n",
    "pipeline = Pipeline(steps=[\n",
    "    ('preprocessor', preprocessor),\n",
    "    ('classifier', LogisticRegression(max_iter=300))\n",
    "])\n",
    "\n",
    "# Entrenar el modelo\n",
    "pipeline.fit(X_train, y_train)\n",
    "\n",
    "# Hacer predicciones\n",
    "y_pred = pipeline.predict(X_test)\n",
    "\n",
    "# Evaluar el modelo\n",
    "print(f\"Exactitud: {accuracy_score(y_test, y_pred)}\")\n",
    "print(\"Matriz de confusión:\")\n",
    "print(confusion_matrix(y_test, y_pred))\n",
    "print(\"Reporte de clasificación:\")\n",
    "print(classification_report(y_test, y_pred))"
   ]
  },
  {
   "cell_type": "code",
   "execution_count": 51,
   "id": "4a46ee2f",
   "metadata": {},
   "outputs": [
    {
     "name": "stdout",
     "output_type": "stream",
     "text": [
      "Accuracy del modelo: 0.50\n"
     ]
    }
   ],
   "source": [
    "accuracy = accuracy_score(y_test, y_pred)\n",
    "print(f\"Accuracy del modelo: {accuracy:.2f}\")"
   ]
  }
 ],
 "metadata": {
  "kernelspec": {
   "display_name": "proyecto_final",
   "language": "python",
   "name": "python3"
  },
  "language_info": {
   "codemirror_mode": {
    "name": "ipython",
    "version": 3
   },
   "file_extension": ".py",
   "mimetype": "text/x-python",
   "name": "python",
   "nbconvert_exporter": "python",
   "pygments_lexer": "ipython3",
   "version": "3.13.2"
  }
 },
 "nbformat": 4,
 "nbformat_minor": 5
}
