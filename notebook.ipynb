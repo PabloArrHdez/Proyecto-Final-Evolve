{
 "cells": [
  {
   "cell_type": "code",
   "execution_count": 1,
   "id": "23ef4b36",
   "metadata": {},
   "outputs": [],
   "source": [
    "import pandas as pd\n",
    "import matplotlib.pyplot as plt\n",
    "import seaborn as sns\n",
    "import statistics as stats\n",
    "import numpy as np\n",
    "import re"
   ]
  },
  {
   "cell_type": "code",
   "execution_count": 2,
   "id": "76e71df7",
   "metadata": {},
   "outputs": [
    {
     "name": "stdout",
     "output_type": "stream",
     "text": [
      "Primeras filas del dataset\n",
      "   Rank                       Name Platform    Year         Genre Publisher  \\\n",
      "0     1                 Wii Sports      Wii  2006.0        Sports  Nintendo   \n",
      "1     2          Super Mario Bros.      NES  1985.0      Platform  Nintendo   \n",
      "2     3             Mario Kart Wii      Wii  2008.0        Racing  Nintendo   \n",
      "3     4          Wii Sports Resort      Wii  2009.0        Sports  Nintendo   \n",
      "4     5   Pokemon Red/Pokemon Blue       GB  1996.0  Role-Playing  Nintendo   \n",
      "5     6                     Tetris       GB  1989.0        Puzzle  Nintendo   \n",
      "6     7      New Super Mario Bros.       DS  2006.0      Platform  Nintendo   \n",
      "7     8                   Wii Play      Wii  2006.0          Misc  Nintendo   \n",
      "8     9  New Super Mario Bros. Wii      Wii  2009.0      Platform  Nintendo   \n",
      "9    10                  Duck Hunt      NES  1984.0       Shooter  Nintendo   \n",
      "\n",
      "   NA_Sales  EU_Sales  JP_Sales  Other_Sales  Global_Sales  \n",
      "0     41.49     29.02      3.77         8.46         82.74  \n",
      "1     29.08      3.58      6.81         0.77         40.24  \n",
      "2     15.85     12.88      3.79         3.31         35.82  \n",
      "3     15.75     11.01      3.28         2.96         33.00  \n",
      "4     11.27      8.89     10.22         1.00         31.37  \n",
      "5     23.20      2.26      4.22         0.58         30.26  \n",
      "6     11.38      9.23      6.50         2.90         30.01  \n",
      "7     14.03      9.20      2.93         2.85         29.02  \n",
      "8     14.59      7.06      4.70         2.26         28.62  \n",
      "9     26.93      0.63      0.28         0.47         28.31  \n"
     ]
    }
   ],
   "source": [
    "### EDA video_games_sales.csv ###\n",
    "df_video_games = pd.read_csv('Data/video_games_sales.csv')\n",
    "print(\"Primeras filas del dataset\")\n",
    "print(df_video_games.head(10))\n",
    "\n"
   ]
  },
  {
   "cell_type": "code",
   "execution_count": 3,
   "id": "50810933",
   "metadata": {},
   "outputs": [
    {
     "name": "stdout",
     "output_type": "stream",
     "text": [
      "\n",
      "Dimensiones del dataset:\n",
      "Filas: 16598, Columnas: 11\n"
     ]
    }
   ],
   "source": [
    "print(\"\\nDimensiones del dataset:\")\n",
    "print(f\"Filas: {df_video_games.shape[0]}, Columnas: {df_video_games.shape[1]}\")"
   ]
  },
  {
   "cell_type": "code",
   "execution_count": 4,
   "id": "55b9c9a2",
   "metadata": {},
   "outputs": [
    {
     "name": "stdout",
     "output_type": "stream",
     "text": [
      "\n",
      "Valores nulos por columna:\n",
      "Rank              0\n",
      "Name              0\n",
      "Platform          0\n",
      "Year            271\n",
      "Genre             0\n",
      "Publisher        58\n",
      "NA_Sales          0\n",
      "EU_Sales          0\n",
      "JP_Sales          0\n",
      "Other_Sales       0\n",
      "Global_Sales      0\n",
      "dtype: int64\n"
     ]
    }
   ],
   "source": [
    "print(\"\\nValores nulos por columna:\")\n",
    "print(df_video_games.isnull().sum())"
   ]
  },
  {
   "cell_type": "code",
   "execution_count": 5,
   "id": "492ffe60",
   "metadata": {},
   "outputs": [],
   "source": [
    "## limpieza de video_games_sales.csv --> video_game_sales_limpio ##\n",
    "df_video_games1 = df_video_games.drop_duplicates()\n",
    "df_video_games2 = df_video_games1.dropna(subset=['Year', 'Publisher'])\n",
    "df_video_games_limpio = df_video_games2[df_video_games2['Global_Sales'] > 0]\n",
    "df_video_games_limpio['Year'] = df_video_games_limpio['Year'].astype(int)"
   ]
  },
  {
   "cell_type": "code",
   "execution_count": 6,
   "id": "d1230d35",
   "metadata": {},
   "outputs": [
    {
     "name": "stdout",
     "output_type": "stream",
     "text": [
      "Filas: 16291, Columnas: 11\n",
      "Rank              int64\n",
      "Name             object\n",
      "Platform         object\n",
      "Year              int64\n",
      "Genre            object\n",
      "Publisher        object\n",
      "NA_Sales        float64\n",
      "EU_Sales        float64\n",
      "JP_Sales        float64\n",
      "Other_Sales     float64\n",
      "Global_Sales    float64\n",
      "dtype: object\n"
     ]
    }
   ],
   "source": [
    "print(f\"Filas: {df_video_games_limpio.shape[0]}, Columnas: {df_video_games_limpio.shape[1]}\")\n",
    "print(df_video_games_limpio.dtypes)"
   ]
  },
  {
   "cell_type": "code",
   "execution_count": 7,
   "id": "70d6d67a",
   "metadata": {},
   "outputs": [],
   "source": [
    "df_video_games_limpio.to_csv('Data/video_games_sales_limpio.csv', index=False)"
   ]
  },
  {
   "cell_type": "code",
   "execution_count": 8,
   "id": "5e6fc658",
   "metadata": {},
   "outputs": [],
   "source": [
    "#### categorización de ventas ####\n",
    "q90 = df_video_games_limpio['Global_Sales'].quantile(0.90)\n",
    "q60 = df_video_games_limpio['Global_Sales'].quantile(0.60)\n",
    "def clasificar_ventas(ventas):\n",
    "    if ventas >= q90:\n",
    "        return 'Alta'\n",
    "    elif ventas >= q60:\n",
    "        return 'Media'\n",
    "    else:\n",
    "        return 'Baja'\n",
    " ## incluir nueva columna ###   \n",
    "df_video_games_limpio['Ventas_Clase'] = df_video_games_limpio['Global_Sales'].apply(clasificar_ventas)\n",
    "df_video_games_limpio.to_csv('Data/video_games_sales_limpio.csv', index=False)"
   ]
  },
  {
   "cell_type": "code",
   "execution_count": 9,
   "id": "bbd779b7",
   "metadata": {},
   "outputs": [],
   "source": [
    "## Union de video_games_ sales_ limpio y all_video_games(cleaned).csv ##\n",
    "df_all_games = pd.read_csv('Data/all_video_games(cleaned).csv')"
   ]
  },
  {
   "cell_type": "code",
   "execution_count": 10,
   "id": "a9c8d3ca",
   "metadata": {},
   "outputs": [],
   "source": [
    "df_video_games_limpio['Title'] = df_video_games_limpio['Name'].str.strip().str.lower()\n",
    "df_all_games['Title'] = df_all_games['Title'].str.strip().str.lower()\n",
    "df_all_games_limpio = df_all_games[['Title', 'Product Rating', 'User Score', 'User Ratings Count', 'Platforms Info']]"
   ]
  },
  {
   "cell_type": "code",
   "execution_count": 11,
   "id": "d394dd52",
   "metadata": {},
   "outputs": [],
   "source": [
    "df_video_games_unido = pd.merge(df_video_games_limpio, df_all_games_limpio, on='Title', how='left')"
   ]
  },
  {
   "cell_type": "code",
   "execution_count": 13,
   "id": "1a3bec95",
   "metadata": {},
   "outputs": [],
   "source": [
    "# eliminamos columnas inneecesarias ## \n",
    "df_video_games_unido.drop(columns=['Rank','Title'], inplace=True) ## dudas de meter plataformas info y  ##"
   ]
  },
  {
   "cell_type": "code",
   "execution_count": 14,
   "id": "aceed0e4",
   "metadata": {},
   "outputs": [],
   "source": [
    "df_video_games_unido['User Ratings Count'] = (\n",
    "    df_video_games_unido.groupby(['Platform', 'Genre'])['User Ratings Count']\n",
    "      .transform(lambda x: x.fillna(x.median()))\n",
    ")\n",
    "df_video_games_unido['User Ratings Count'] = df_video_games_unido['User Ratings Count'] \\\n",
    "    .fillna(df_video_games_unido['User Ratings Count'].median())\n",
    "df_video_games_unido['User Ratings Count'] = df_video_games_unido['User Ratings Count'].round().astype(int)"
   ]
  },
  {
   "cell_type": "code",
   "execution_count": 15,
   "id": "2d81684c",
   "metadata": {},
   "outputs": [],
   "source": [
    "#eliminacion de consolas con menos de 20 filas registradas #\n",
    "platform_counts = df_video_games_unido['Platform'].value_counts()\n",
    "platforms_to_remove = platform_counts[platform_counts < 20].index.tolist()\n",
    "df_video_games_unido = df_video_games_unido[~df_video_games_unido['Platform'].isin(platforms_to_remove)].copy()\n"
   ]
  },
  {
   "cell_type": "code",
   "execution_count": 16,
   "id": "3af0161d",
   "metadata": {},
   "outputs": [],
   "source": [
    "#renombramos la columna platform ##\n",
    "# Diccionario de reemplazo de nombres de plataformas\n",
    "platform_rename = {\n",
    "    '2600': 'Atari 2600',\n",
    "    'DS': 'Nintendo DS',\n",
    "    'GB': 'Game Boy',\n",
    "    'GBA': 'Game Boy Advance',\n",
    "    'GC': 'GameCube',\n",
    "    'GEN': 'Sega Genesis',\n",
    "    'N64': 'Nintendo 64',\n",
    "    'NES': 'Nintendo Entertainment System',\n",
    "    'PC': 'PC',\n",
    "    'PS': 'PlayStation',\n",
    "    'PS2': 'PlayStation 2',\n",
    "    'PS3': 'PlayStation 3',\n",
    "    'PS4': 'PlayStation 4',\n",
    "    'PSP': 'PlayStation Portable',\n",
    "    'PSV': 'PlayStation Vita',\n",
    "    'SAT': 'Sega Saturn',\n",
    "    'SNES': 'Super Nintendo Entertainment System',\n",
    "    'Wii': 'Nintendo Wii',\n",
    "    'WiiU': 'Nintendo Wii U',\n",
    "    'X360': 'Xbox 360',\n",
    "    'XB': 'Xbox',\n",
    "    'XOne': 'Xbox One',\n",
    "    'DC': 'Dream Cast',\n",
    "    '3DS': 'Nintendo 3DS',\n",
    "}\n",
    "\n",
    "# Reemplazar los nombres\n",
    "df_video_games_unido['Platform'] = df_video_games_unido['Platform'].replace(platform_rename)\n"
   ]
  },
  {
   "cell_type": "code",
   "execution_count": 17,
   "id": "d3799f25",
   "metadata": {},
   "outputs": [],
   "source": [
    "## Eliminamos filas con \"Rated RP FOr Rate Pending\"\n",
    "##Renombramos la columna Product Rating por Nota PEGI ##\n",
    "df_video_games_unido.rename(columns={'Product Rating': 'Nota PEGI'}, inplace=True)\n",
    "df_video_games_unido = df_video_games_unido[df_video_games_unido['Nota PEGI'] != 'Rated RP For Rate Pending'].copy()\n"
   ]
  },
  {
   "cell_type": "code",
   "execution_count": 18,
   "id": "ba4132e5",
   "metadata": {},
   "outputs": [],
   "source": [
    "## Remplazamos las filas de Nota PEGI por valores correspondientes ##\n",
    "nota_pegi_rename = {\n",
    "    'Rated E For Everyone': '3',\n",
    "    'Rated M For Mature': '18',\n",
    "    'Rated T For Teen': '16',\n",
    "    'Rated E +10 For Everyone +10': '12',\n",
    "}\n",
    "df_video_games_unido['Nota PEGI'] = df_video_games_unido['Nota PEGI'].replace(nota_pegi_rename)"
   ]
  },
  {
   "cell_type": "code",
   "execution_count": 19,
   "id": "48285228",
   "metadata": {},
   "outputs": [
    {
     "data": {
      "image/png": "[encoded data removed]",
      "text/plain": [
       "<Figure size 1000x600 with 1 Axes>"
      ]
     },
     "metadata": {},
     "output_type": "display_data"
    }
   ],
   "source": [
    "plt.figure(figsize=(10, 6))\n",
    "sns.boxplot(x=df_video_games_unido['Global_Sales'], color='skyblue')\n",
    "plt.axvline(x=q60, color='orange', linestyle='--', label='Percentil 60')\n",
    "plt.axvline(x=q90, color='red', linestyle='--', label='Percentil 90')\n",
    "plt.title('Diagrama de Caja y Bigotes de Global Sales')\n",
    "plt.xlabel('Ventas globales (millones)')\n",
    "plt.grid(True)\n",
    "plt.legend()\n",
    "plt.tight_layout()\n",
    "plt.show()"
   ]
  },
  {
   "cell_type": "code",
   "execution_count": 20,
   "id": "26e50533",
   "metadata": {},
   "outputs": [],
   "source": [
    "## clasificamos las consolas en funcion de su antiguedad ##\n",
    "mercado_activo = [\n",
    "    'PlayStation 4','PC', \n",
    "    'Xbox One'\n",
    "]\n",
    "mercado_secundario = [\n",
    "    'Nintendo 3DS',\n",
    "    'PlayStation Vita'\n",
    "]\n",
    "# Función para clasificar en Actual u Obsoleta\n",
    "def clasificar_consola(plataforma):\n",
    "    if plataforma in mercado_activo:\n",
    "        return ' Consola Activa'\n",
    "    elif plataforma in mercado_secundario:\n",
    "        return ' Consola Secundaria'\n",
    "    else:\n",
    "        return 'Obsoleta'\n",
    "\n",
    "#Anañidos nueva columna #\n",
    "df_video_games_unido['Estado_Consola'] = df_video_games_unido['Platform'].apply(clasificar_consola)"
   ]
  },
  {
   "cell_type": "code",
   "execution_count": 21,
   "id": "2b4e85da",
   "metadata": {},
   "outputs": [],
   "source": [
    "### añadimo la columna precios, basado en estimaciones del mercado, en momento ##\n",
    "platform_prices_eur = {\n",
    "    'PlayStation 4': 69.99,\n",
    "    'Xbox One': 69.99,\n",
    "    'PC': 49.99,\n",
    "    'PlayStation 3': 59.99,\n",
    "    'Xbox 360': 59.99,\n",
    "    'Nintendo Wii U': 59.99,\n",
    "    'Nintendo Wii': 49.99,\n",
    "    'Nintendo DS': 39.99,\n",
    "    'Nintendo 3DS': 39.99,\n",
    "    'PlayStation 2': 49.99,\n",
    "    'PlayStation Portable': 39.99,\n",
    "    'Nintendo Entertainment System': 49.99,\n",
    "    'Super Nintendo Entertainment System': 59.99,\n",
    "    'Game Boy': 39.99,\n",
    "    'PlayStation': 49.99,\n",
    "    'Game Boy Advance': 39.99,\n",
    "    'Nintendo 64': 59.99,\n",
    "    'Xbox': 59.99,\n",
    "    'Atari 2600': 29.99,\n",
    "    'GameCube': 49.99,\n",
    "    'Sega Genesis': 49.99,\n",
    "    'Dream Cast': 49.99,\n",
    "    'PlayStation Vita': 49.99,\n",
    "    'Sega Saturn': 59.99,\n",
    "}\n",
    "def assign_launch_price(row):\n",
    "    platform = row['Platform']\n",
    "    return platform_prices_eur.get(platform)\n",
    "df_video_games_unido['Price'] = df_video_games_unido.apply(assign_launch_price, axis=1)\n"
   ]
  },
  {
   "cell_type": "code",
   "execution_count": 22,
   "id": "7cb182db",
   "metadata": {},
   "outputs": [],
   "source": [
    "# anañidos el precio de las consolas cuando salieron al mercado #\n",
    "price_dict = {\n",
    "    'Nintendo Wii': 249,\n",
    "    'Nintendo Entertainment System': 199,  \n",
    "    'Game Boy': 113.5,\n",
    "    'Nintendo DS': 149,\n",
    "    'Xbox 360': 299,\n",
    "    'PlayStation 3': 599,\n",
    "    'PlayStation 2': 399,\n",
    "    'Super Nintendo Entertainment System': 299,\n",
    "    'Game Boy Advance': 120,\n",
    "    'Nintendo 3DS': 250,\n",
    "    'PlayStation 4': 399,\n",
    "    'Nintendo 64': 210,\n",
    "    'PlayStation': 299,\n",
    "    'Xbox': 299,\n",
    "    'PC': 230,\n",
    "    'Atari 2600': 199,\n",
    "    'PlayStation Portable': 249,\n",
    "    'Xbox One': 499,\n",
    "    'GameCube': 199,\n",
    "    'Nintendo Wii U': 299, \n",
    "    'Sega Genesis': 199,\n",
    "    'Dream Cast': 240,\n",
    "    'PlayStation Vita': 249,\n",
    "    'Sega Saturn': 399\n",
    "}\n",
    "def assign_launch_price_platform(row):\n",
    "    platform = row['Platform']\n",
    "    return price_dict.get(platform)\n",
    "df_video_games_unido['Price_Platform'] = df_video_games_unido.apply(assign_launch_price_platform, axis=1)"
   ]
  },
  {
   "cell_type": "code",
   "execution_count": 23,
   "id": "1f88d07a",
   "metadata": {},
   "outputs": [
    {
     "name": "stderr",
     "output_type": "stream",
     "text": [
      "C:\\Users\\pablo\\AppData\\Local\\Temp\\ipykernel_17340\\2351189849.py:12: FutureWarning: A value is trying to be set on a copy of a DataFrame or Series through chained assignment using an inplace method.\n",
      "The behavior will change in pandas 3.0. This inplace method will never work because the intermediate object on which we are setting values always behaves as a copy.\n",
      "\n",
      "For example, when doing 'df[col].method(value, inplace=True)', try using 'df.method({col: value}, inplace=True)' or df[col] = df[col].method(value) instead, to perform the operation inplace on the original object.\n",
      "\n",
      "\n",
      "  df_video_games_unido['User Score'].fillna(df_video_games_unido['User Score'].mean(), inplace=True)\n"
     ]
    }
   ],
   "source": [
    "## Rellenamos los valores nulos de 'User Score' con la media en base a 'Genre' y 'Platform' ##\n",
    "def imputar_user_score(row):\n",
    "    if pd.isna(row['User Score']):\n",
    "        media = df_video_games_unido[\n",
    "            (df_video_games_unido['Platform'] == row['Platform']) &\n",
    "            (df_video_games_unido['Genre'] == row['Genre'])\n",
    "        ]['User Score'].mean()\n",
    "        return media\n",
    "    else:\n",
    "        return row['User Score']\n",
    "df_video_games_unido['User Score'] = df_video_games_unido.apply(imputar_user_score, axis=1)\n",
    "df_video_games_unido['User Score'].fillna(df_video_games_unido['User Score'].mean(), inplace=True)\n"
   ]
  },
  {
   "cell_type": "code",
   "execution_count": 24,
   "id": "dce24c56",
   "metadata": {},
   "outputs": [
    {
     "name": "stderr",
     "output_type": "stream",
     "text": [
      "C:\\Users\\pablo\\AppData\\Local\\Temp\\ipykernel_17340\\195433462.py:13: FutureWarning: A value is trying to be set on a copy of a DataFrame or Series through chained assignment using an inplace method.\n",
      "The behavior will change in pandas 3.0. This inplace method will never work because the intermediate object on which we are setting values always behaves as a copy.\n",
      "\n",
      "For example, when doing 'df[col].method(value, inplace=True)', try using 'df.method({col: value}, inplace=True)' or df[col] = df[col].method(value) instead, to perform the operation inplace on the original object.\n",
      "\n",
      "\n",
      "  df_video_games_unido['Nota PEGI'].fillna(df_video_games_unido['Nota PEGI'].mode()[0],inplace=True)\n"
     ]
    }
   ],
   "source": [
    "## Rellenamos los valores nulos de 'Nota PEGI' con la moda en base a 'Genre' y 'Platform' ##\n",
    "def imputar_pegi(row):\n",
    "    if pd.isna(row['Nota PEGI']):\n",
    "        subset = df_video_games_unido[\n",
    "            (df_video_games_unido['Platform'] == row['Platform']) &\n",
    "            (df_video_games_unido['Genre'] == row['Genre'])\n",
    "        ]['Nota PEGI']\n",
    "        moda = subset.mode()\n",
    "        return moda[0] if not moda.empty else np.nan\n",
    "    else:\n",
    "        return row['Nota PEGI']\n",
    "df_video_games_unido['Nota PEGI'] = df_video_games_unido.apply(imputar_pegi, axis=1)\n",
    "df_video_games_unido['Nota PEGI'].fillna(df_video_games_unido['Nota PEGI'].mode()[0],inplace=True)"
   ]
  },
  {
   "cell_type": "code",
   "execution_count": 25,
   "id": "b27b4ebe",
   "metadata": {},
   "outputs": [],
   "source": [
    "# Anadismos una columna que muestre el año de lanzamiento de la consola #\n",
    "year_lanzamiento = {\n",
    "    'Atari 2600': 1977, 'Nintendo DS': 2004, 'Game Boy Advance': 2001,\n",
    "    'GameCube': 2001, 'Sega Genesis': 1988, 'Nintendo 64': 1996, 'Nintendo Entertainment System': 1983, 'PC': 1980,\n",
    "    'PlayStation': 1994, 'PlayStation 2': 2000, 'PlayStation 3': 2006, 'PlayStation 4': 2013, 'PlayStation Portable': 2004, \n",
    "    'PlayStation Vita': 2011, 'Sega Saturn': 1994, 'Super Nintendo Entertainment System': 1990,\n",
    "    'Nintendo Wii': 2006, 'Nintendo Wii U': 2012, 'Xbox 360': 2005, 'Xbox': 2001, 'Xbox One': 2013,\n",
    "    'Game Boy': 1989, 'Dream Cast': 1998, 'Nintendo 3DS': 2011\n",
    "}\n",
    "df_video_games_unido['Year_Consola'] = df_video_games_unido['Platform'].map(year_lanzamiento)"
   ]
  },
  {
   "cell_type": "code",
   "execution_count": 26,
   "id": "b989aec6",
   "metadata": {},
   "outputs": [],
   "source": [
    "## Añadimos la duracion media de los videojuesgos segun consola y genero ##\n",
    "playtime_dict = {\n",
    "    ('Action', 'Nintendo Wii'): 10,\n",
    "    ('Adventure', 'Nintendo Wii'): 20,\n",
    "    ('Fighting', 'Nintendo Wii'): 4,\n",
    "    ('Misc', 'Nintendo Wii'): 2,\n",
    "    ('Platform', 'Nintendo Wii'): 10,\n",
    "    ('Puzzle', 'Nintendo Wii'): 5,\n",
    "    ('Racing', 'Nintendo Wii'): 6,\n",
    "    ('Role-Playing', 'Nintendo Wii'): 40,\n",
    "    ('Shooter', 'Nintendo Wii'): 8,\n",
    "    ('Simulation', 'Nintendo Wii'): 20,\n",
    "    ('Sports', 'Nintendo Wii'): 1,\n",
    "    ('Strategy', 'Nintendo Wii'): 40,\n",
    "    ('Action', 'Nintendo Entertainment System'): 2,\n",
    "    ('Adventure', 'Nintendo Entertainment System'): 4,\n",
    "    ('Platform', 'Nintendo Entertainment System'): 3,\n",
    "    ('Puzzle', 'Nintendo Entertainment System'): 3,\n",
    "    ('Racing', 'Nintendo Entertainment System'): 1,\n",
    "    ('Role-Playing', 'Nintendo Entertainment System'): 18,\n",
    "    ('Shooter', 'Nintendo Entertainment System'): 1,\n",
    "    ('Sports', 'Nintendo Entertainment System'): 1,\n",
    "    ('Strategy', 'Nintendo Entertainment System'): 10,\n",
    "    ('Misc', 'Nintendo Entertainment System'): 1,\n",
    "    ('Action', 'Game Boy'): 1,\n",
    "    ('Adventure', 'Game Boy'): 15,\n",
    "    ('Platform', 'Game Boy'): 1.5,\n",
    "    ('Racing', 'Game Boy'): 1,\n",
    "    ('Role-Playing', 'Game Boy'): 20,\n",
    "    ('Action', 'Nintendo DS'): 7,\n",
    "    ('Adventure', 'Nintendo DS'): 15,\n",
    "    ('Fighting', 'Nintendo DS'): 2,\n",
    "    ('Misc', 'Nintendo DS'): 3,\n",
    "    ('Platform', 'Nintendo DS'): 6,\n",
    "    ('Puzzle', 'Nintendo DS'): 10,\n",
    "    ('Racing', 'Nintendo DS'): 5,\n",
    "    ('Role-Playing', 'Nintendo DS'): 25,\n",
    "    ('Shooter', 'Nintendo DS'): 6,\n",
    "    ('Simulation', 'Nintendo DS'): 5,\n",
    "    ('Sports', 'Nintendo DS'): 2,\n",
    "    ('Strategy', 'Nintendo DS'): 18,\n",
    "    ('Action', 'PlayStation 2'): 15,\n",
    "    ('Action', 'PlayStation 3'): 12,\n",
    "    ('Action', 'Nintendo Wii U'): 15,\n",
    "    ('Adventure', 'Nintendo Wii U'): 37,\n",
    "    ('Fighting', 'Nintendo Wii U'): 2,\n",
    "    ('Misc', 'Nintendo Wii U'): 3,\n",
    "    ('Platform', 'Nintendo Wii U'): 9,\n",
    "    ('Puzzle', 'nintendo Wii U'): 6,\n",
    "    ('Racing', 'Nintendo Wii U'): 6,\n",
    "    ('Role-Playing', 'Nintendo Wii U'): 70,\n",
    "    ('Shooter', 'Nintendo Wii U'): 6,\n",
    "    ('Sports', 'Nintendo Wii U'): 1,\n",
    "    ('Strategy', 'Nintendo wii U'): 8,\n",
    "    ('Fighting', 'PC'): 3,\n",
    "    ('Platform', 'PC'): 5,\n",
    "    ('Puzzle', 'PlayStation 4'): 5,\n",
    "    ('Racing', 'PlayStation 4'): 6,\n",
    "    ('Role-Playing', 'PlayStation 4'): 50,\n",
    "    ('Shooter', 'PlayStation 4'): 8,\n",
    "    ('Simulation', 'PlayStation 4'): 20,\n",
    "    ('Sports', 'PlayStation 4'): 1,\n",
    "    ('Strategy', 'PlayStation 4'): 40,\n",
    "    ('Action', 'Xbox One'): 15,\n",
    "    ('Adventure', 'Xbox One'): 37,\n",
    "    ('Fighting', 'Xbox One'): 2,\n",
    "    ('Misc', 'Xbox One'): 3,\n",
    "    ('Platform', 'Xbox One'): 9,\n",
    "    ('Puzzle', 'Xbox One'): 6,\n",
    "    ('Racing', 'Xbox One'): 6,\n",
    "    ('Role-Playing', 'Xbox One'): 70,\n",
    "    ('Shooter', 'Xbox One'): 6,\n",
    "    ('Sports', 'Xbox One'): 1,\n",
    "    ('Strategy', 'Xbox One'): 8\n",
    "}\n",
    "\n",
    "def asignar_playtime(row):\n",
    "    genre = str(row['Genre']).strip()\n",
    "    platform = str(row['Platform']).strip()\n",
    "    return playtime_dict.get((genre, platform), np.nan)\n",
    "\n",
    "def imputar_si_falta(row):\n",
    "    media_por_genero = df_video_games_unido.groupby('Genre')['Play Time'].mean()\n",
    "    if pd.isna(row['Play Time']):\n",
    "        return media_por_genero.get(row['Genre'], np.nan)\n",
    "    else:\n",
    "        return row['Play Time']\n",
    "\n",
    "# Crear nueva columna con el tiempo de juego\n",
    "df_video_games_unido['Play Time'] = df_video_games_unido.apply(asignar_playtime, axis=1)\n",
    "df_video_games_unido['Play Time'] = df_video_games_unido.apply(imputar_si_falta, axis=1)\n"
   ]
  },
  {
   "cell_type": "code",
   "execution_count": 27,
   "id": "eb141025",
   "metadata": {},
   "outputs": [],
   "source": [
    "# añadimos nueva columna con el modo de juego #\n",
    "multijugador_comun = {\n",
    "    'Sports': True,\n",
    "    'Platform': False,\n",
    "    'Racing': True,\n",
    "    'Role-Playing': False,\n",
    "    'Puzzle': False,\n",
    "    'Misc': True,\n",
    "    'Shooter': True,\n",
    "    'Simulation': False,\n",
    "    'Action': True,\n",
    "    'Fighting': True,\n",
    "    'Adventure': False,\n",
    "    'Strategy': True\n",
    "}\n",
    "def clasificar_modo_juego(genero):\n",
    "    if multijugador_comun.get(genero, True):\n",
    "        return 'Multijugador'\n",
    "    else:\n",
    "        return 'Individual'\n",
    "df_video_games_unido['Modo Juego'] = df_video_games_unido['Genre'].apply(clasificar_modo_juego)"
   ]
  },
  {
   "cell_type": "code",
   "execution_count": 28,
   "id": "e5450ff5",
   "metadata": {},
   "outputs": [],
   "source": [
    "# Calcular años desde lanzamiento de la consola\n",
    "df_video_games_unido['Años_desde_lanzamiento_consola'] = df_video_games_unido['Year'] - df_video_games_unido['Year_Consola']"
   ]
  },
  {
   "cell_type": "code",
   "execution_count": 29,
   "id": "49a7b3fd",
   "metadata": {},
   "outputs": [],
   "source": [
    "\n",
    "# Proporción de precio relativo al promedio de plataforma\n",
    "df_video_games_unido['Precio_relativo'] = df_video_games_unido['Price'] / df_video_games_unido['Price_Platform']"
   ]
  },
  {
   "cell_type": "code",
   "execution_count": 30,
   "id": "2e46b082",
   "metadata": {},
   "outputs": [],
   "source": [
    "# Categorizamos nota PEGI\n",
    "df_video_games_unido['Nota PEGI'] = df_video_games_unido['Nota PEGI'].astype(int)\n",
    "def categorizar_pegi(nota):\n",
    "    if nota <= 7: return 'Infantil'\n",
    "    elif nota < 16: return 'Adolescente'\n",
    "    else: return 'Adulto'\n",
    "df_video_games_unido['PEGI_categoria'] = df_video_games_unido['Nota PEGI'].apply(categorizar_pegi)"
   ]
  },
  {
   "cell_type": "code",
   "execution_count": 31,
   "id": "1cea5023",
   "metadata": {},
   "outputs": [],
   "source": [
    "# Categorizamos la duración del juego\n",
    "df_video_games_unido['Duracion_juego_cat'] = pd.cut(df_video_games_unido['Play Time'], bins=[0, 5, 20, float('inf')], \n",
    "                                  labels=['Corto', 'Medio', 'Largo'])"
   ]
  },
  {
   "cell_type": "code",
   "execution_count": 32,
   "id": "2613ac46",
   "metadata": {},
   "outputs": [],
   "source": [
    "### pertenece a una saga o no ###\n",
    "\n",
    "def extraer_nombre_base(nombre):\n",
    "    nombre = nombre.lower()\n",
    "    nombre = re.sub(r'\\(.*?\\)|\\[.*?\\]', '', nombre)  # eliminar paréntesis\n",
    "    nombre = re.sub(r'[-_:]', ' ', nombre)  # quitar guiones y dos puntos\n",
    "    nombre = re.sub(r'\\b(remaster(ed)?|hd|ultimate|edition|goty|game of the year|definitive|complete|deluxe)\\b', '', nombre)\n",
    "    nombre = re.sub(r'\\b([ivx]+|\\d{1,2})\\b', '', nombre)  # quitar romanos y números\n",
    "    nombre = re.sub(r'[^a-zA-Z\\s]', '', nombre)  # eliminar símbolos\n",
    "    nombre = re.sub(r'\\s+', ' ', nombre).strip()\n",
    "    return nombre\n",
    "\n",
    "# Aplicar limpieza\n",
    "df_video_games_unido['Nombre_Base'] = df_video_games_unido['Name'].apply(extraer_nombre_base)\n",
    "\n",
    "# Detectar sagas: si ese nombre base aparece más de una vez\n",
    "conteo = df_video_games_unido['Nombre_Base'].value_counts()\n",
    "df_video_games_unido['Es_Saga'] = df_video_games_unido['Nombre_Base'].apply(lambda x: 1 if conteo.get(x, 0) > 1 else 0)\n",
    "df_video_games_unido['Tipo_Saga'] = df_video_games_unido['Es_Saga'].apply(lambda x: 'Saga' if x == 1 else 'No saga')\n"
   ]
  },
  {
   "cell_type": "code",
   "execution_count": 33,
   "id": "55fcf4a3",
   "metadata": {},
   "outputs": [],
   "source": [
    "## Añadimos la columna situacion economica global en base a year ##\n",
    "recesion = {\n",
    "    1980, 1981, 1982, 1983, 1991, 1992, 2001,\n",
    "    2008, 2009, 2020\n",
    "}\n",
    "\n",
    "df_video_games_unido['Situacion_Economica'] = df_video_games_unido['Year'].apply(\n",
    "    lambda x: 'Recesion' if x in recesion else 'Crecimiento'\n",
    ")\n"
   ]
  },
  {
   "cell_type": "code",
   "execution_count": 34,
   "id": "0f113fcf",
   "metadata": {},
   "outputs": [
    {
     "name": "stdout",
     "output_type": "stream",
     "text": [
      "Ventas_Clase\n",
      "Baja     9607\n",
      "Media    5020\n",
      "Alta     1632\n",
      "Name: count, dtype: int64\n"
     ]
    }
   ],
   "source": [
    "print(df_video_games_unido['Ventas_Clase'].value_counts())"
   ]
  },
  {
   "cell_type": "code",
   "execution_count": 35,
   "id": "6ddd5d76",
   "metadata": {},
   "outputs": [
    {
     "name": "stdout",
     "output_type": "stream",
     "text": [
      "Forma del dataframe combinado: (16259, 29)\n",
      "Name                                 0\n",
      "Platform                             0\n",
      "Year                                 0\n",
      "Genre                                0\n",
      "Publisher                            0\n",
      "NA_Sales                             0\n",
      "EU_Sales                             0\n",
      "JP_Sales                             0\n",
      "Other_Sales                          0\n",
      "Global_Sales                         0\n",
      "Ventas_Clase                         0\n",
      "Nota PEGI                            0\n",
      "User Score                           0\n",
      "User Ratings Count                   0\n",
      "Platforms Info                    8549\n",
      "Estado_Consola                       0\n",
      "Price                                0\n",
      "Price_Platform                       0\n",
      "Year_Consola                         0\n",
      "Play Time                            0\n",
      "Modo Juego                           0\n",
      "Años_desde_lanzamiento_consola       0\n",
      "Precio_relativo                      0\n",
      "PEGI_categoria                       0\n",
      "Duracion_juego_cat                   0\n",
      "Nombre_Base                          0\n",
      "Es_Saga                              0\n",
      "Tipo_Saga                            0\n",
      "Situacion_Economica                  0\n",
      "dtype: int64\n"
     ]
    }
   ],
   "source": [
    "print(\"Forma del dataframe combinado:\", df_video_games_unido.shape)\n",
    "print(df_video_games_unido.isnull().sum())"
   ]
  },
  {
   "cell_type": "code",
   "execution_count": 36,
   "id": "2f936b78",
   "metadata": {},
   "outputs": [
    {
     "name": "stdout",
     "output_type": "stream",
     "text": [
      "Index(['Name', 'Platform', 'Year', 'Genre', 'Publisher', 'NA_Sales',\n",
      "       'EU_Sales', 'JP_Sales', 'Other_Sales', 'Global_Sales', 'Ventas_Clase',\n",
      "       'Nota PEGI', 'User Score', 'User Ratings Count', 'Platforms Info',\n",
      "       'Estado_Consola', 'Price', 'Price_Platform', 'Year_Consola',\n",
      "       'Play Time', 'Modo Juego', 'Años_desde_lanzamiento_consola',\n",
      "       'Precio_relativo', 'PEGI_categoria', 'Duracion_juego_cat',\n",
      "       'Nombre_Base', 'Es_Saga', 'Tipo_Saga', 'Situacion_Economica'],\n",
      "      dtype='object')\n"
     ]
    }
   ],
   "source": [
    "print(df_video_games_unido.columns.unique())"
   ]
  },
  {
   "cell_type": "code",
   "execution_count": 37,
   "id": "974e32aa",
   "metadata": {},
   "outputs": [],
   "source": [
    "df_video_games_unido.to_csv('Data/video_games_sales_completo.csv', index=False)"
   ]
  },
  {
   "cell_type": "code",
   "execution_count": 39,
   "id": "8bccba2f",
   "metadata": {},
   "outputs": [
    {
     "name": "stdout",
     "output_type": "stream",
     "text": [
      "Baja: entre 0.01 y 0.24 millones de unidades vendidas.\n",
      "Media: entre 0.25 y 1.21 millones de unidades vendidas.\n",
      "Alta: entre 1.22 y 82.74 millones de unidades vendidas.\n"
     ]
    }
   ],
   "source": [
    "for clase in ['Baja', 'Media', 'Alta']:\n",
    "    subset = df_video_games_unido[df_video_games_unido['Ventas_Clase'] == clase]\n",
    "    minimo = subset['Global_Sales'].min()\n",
    "    maximo = subset['Global_Sales'].max()\n",
    "    print(f\"{clase}: entre {minimo:.2f} y {maximo:.2f} millones de unidades vendidas.\")"
   ]
  }
 ],
 "metadata": {
  "kernelspec": {
   "display_name": "proyecto_final",
   "language": "python",
   "name": "python3"
  },
  "language_info": {
   "codemirror_mode": {
    "name": "ipython",
    "version": 3
   },
   "file_extension": ".py",
   "mimetype": "text/x-python",
   "name": "python",
   "nbconvert_exporter": "python",
   "pygments_lexer": "ipython3",
   "version": "3.13.2"
  }
 },
 "nbformat": 4,
 "nbformat_minor": 5
}
