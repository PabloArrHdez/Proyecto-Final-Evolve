{
 "cells": [
  {
   "cell_type": "code",
   "execution_count": 31,
   "id": "23ef4b36",
   "metadata": {},
   "outputs": [],
   "source": [
    "import pandas as pd\n",
    "import matplotlib.pyplot as plt\n",
    "import seaborn as sns\n",
    "import statistics as stats\n",
    "import numpy as np"
   ]
  },
  {
   "cell_type": "code",
   "execution_count": 32,
   "id": "76e71df7",
   "metadata": {},
   "outputs": [
    {
     "name": "stdout",
     "output_type": "stream",
     "text": [
      "Primeras filas del dataset\n",
      "   Rank                       Name Platform    Year         Genre Publisher  \\\n",
      "0     1                 Wii Sports      Wii  2006.0        Sports  Nintendo   \n",
      "1     2          Super Mario Bros.      NES  1985.0      Platform  Nintendo   \n",
      "2     3             Mario Kart Wii      Wii  2008.0        Racing  Nintendo   \n",
      "3     4          Wii Sports Resort      Wii  2009.0        Sports  Nintendo   \n",
      "4     5   Pokemon Red/Pokemon Blue       GB  1996.0  Role-Playing  Nintendo   \n",
      "5     6                     Tetris       GB  1989.0        Puzzle  Nintendo   \n",
      "6     7      New Super Mario Bros.       DS  2006.0      Platform  Nintendo   \n",
      "7     8                   Wii Play      Wii  2006.0          Misc  Nintendo   \n",
      "8     9  New Super Mario Bros. Wii      Wii  2009.0      Platform  Nintendo   \n",
      "9    10                  Duck Hunt      NES  1984.0       Shooter  Nintendo   \n",
      "\n",
      "   NA_Sales  EU_Sales  JP_Sales  Other_Sales  Global_Sales  \n",
      "0     41.49     29.02      3.77         8.46         82.74  \n",
      "1     29.08      3.58      6.81         0.77         40.24  \n",
      "2     15.85     12.88      3.79         3.31         35.82  \n",
      "3     15.75     11.01      3.28         2.96         33.00  \n",
      "4     11.27      8.89     10.22         1.00         31.37  \n",
      "5     23.20      2.26      4.22         0.58         30.26  \n",
      "6     11.38      9.23      6.50         2.90         30.01  \n",
      "7     14.03      9.20      2.93         2.85         29.02  \n",
      "8     14.59      7.06      4.70         2.26         28.62  \n",
      "9     26.93      0.63      0.28         0.47         28.31  \n"
     ]
    }
   ],
   "source": [
    "### EDA video_games_sales.csv ###\n",
    "df_video_games = pd.read_csv('Data/video_games_sales.csv')\n",
    "print(\"Primeras filas del dataset\")\n",
    "print(df_video_games.head(10))\n",
    "\n"
   ]
  },
  {
   "cell_type": "code",
   "execution_count": 33,
   "id": "50810933",
   "metadata": {},
   "outputs": [
    {
     "name": "stdout",
     "output_type": "stream",
     "text": [
      "\n",
      "Dimensiones del dataset:\n",
      "Filas: 16598, Columnas: 11\n"
     ]
    }
   ],
   "source": [
    "print(\"\\nDimensiones del dataset:\")\n",
    "print(f\"Filas: {df_video_games.shape[0]}, Columnas: {df_video_games.shape[1]}\")"
   ]
  },
  {
   "cell_type": "code",
   "execution_count": 34,
   "id": "55b9c9a2",
   "metadata": {},
   "outputs": [
    {
     "name": "stdout",
     "output_type": "stream",
     "text": [
      "\n",
      "Valores nulos por columna:\n",
      "Rank              0\n",
      "Name              0\n",
      "Platform          0\n",
      "Year            271\n",
      "Genre             0\n",
      "Publisher        58\n",
      "NA_Sales          0\n",
      "EU_Sales          0\n",
      "JP_Sales          0\n",
      "Other_Sales       0\n",
      "Global_Sales      0\n",
      "dtype: int64\n"
     ]
    }
   ],
   "source": [
    "print(\"\\nValores nulos por columna:\")\n",
    "print(df_video_games.isnull().sum())"
   ]
  },
  {
   "cell_type": "code",
   "execution_count": 35,
   "id": "492ffe60",
   "metadata": {},
   "outputs": [],
   "source": [
    "## limpieza de video_games_sales.csv --> video_game_sales_limpio ##\n",
    "df_video_games1 = df_video_games.drop_duplicates()\n",
    "df_video_games2 = df_video_games1.dropna(subset=['Year', 'Publisher'])\n",
    "df_video_games_limpio = df_video_games2[df_video_games2['Global_Sales'] > 0]\n",
    "df_video_games_limpio['Year'] = df_video_games_limpio['Year'].astype(int)"
   ]
  },
  {
   "cell_type": "code",
   "execution_count": 36,
   "id": "d1230d35",
   "metadata": {},
   "outputs": [
    {
     "name": "stdout",
     "output_type": "stream",
     "text": [
      "Filas: 16291, Columnas: 11\n",
      "Rank              int64\n",
      "Name             object\n",
      "Platform         object\n",
      "Year              int64\n",
      "Genre            object\n",
      "Publisher        object\n",
      "NA_Sales        float64\n",
      "EU_Sales        float64\n",
      "JP_Sales        float64\n",
      "Other_Sales     float64\n",
      "Global_Sales    float64\n",
      "dtype: object\n"
     ]
    }
   ],
   "source": [
    "print(f\"Filas: {df_video_games_limpio.shape[0]}, Columnas: {df_video_games_limpio.shape[1]}\")\n",
    "print(df_video_games_limpio.dtypes)"
   ]
  },
  {
   "cell_type": "code",
   "execution_count": 37,
   "id": "70d6d67a",
   "metadata": {},
   "outputs": [],
   "source": [
    "df_video_games_limpio.to_csv('Data/video_games_sales_limpio.csv', index=False)"
   ]
  },
  {
   "cell_type": "code",
   "execution_count": 38,
   "id": "5e6fc658",
   "metadata": {},
   "outputs": [],
   "source": [
    "#### categorización de ventas ####\n",
    "q90 = df_video_games_limpio['Global_Sales'].quantile(0.90)\n",
    "q70 = df_video_games_limpio['Global_Sales'].quantile(0.70)\n",
    "q40 = df_video_games_limpio['Global_Sales'].quantile(0.40)\n",
    "def clasificar_ventas(ventas):\n",
    "    if ventas >= q90:\n",
    "        return 'Gran Éxito'\n",
    "    elif ventas >= q70:\n",
    "        return 'Alta'\n",
    "    elif ventas >= q40:\n",
    "        return 'Media'\n",
    "    else:\n",
    "        return 'Baja'\n",
    " ## incluir nueva columna ###   \n",
    "df_video_games_limpio['Ventas_Clase'] = df_video_games_limpio['Global_Sales'].apply(clasificar_ventas)\n",
    "df_video_games_limpio.to_csv('Data/video_games_sales_limpio.csv', index=False)"
   ]
  },
  {
   "cell_type": "code",
   "execution_count": 39,
   "id": "bbd779b7",
   "metadata": {},
   "outputs": [],
   "source": [
    "## Union de video_games_ sales_ limpio y all_video_games(cleaned).csv ##\n",
    "df_all_games = pd.read_csv('Data/all_video_games(cleaned).csv')"
   ]
  },
  {
   "cell_type": "code",
   "execution_count": 40,
   "id": "a9c8d3ca",
   "metadata": {},
   "outputs": [],
   "source": [
    "df_video_games_limpio['Title'] = df_video_games_limpio['Name'].str.strip().str.lower()\n",
    "df_all_games['Title'] = df_all_games['Title'].str.strip().str.lower()\n",
    "df_all_games_limpio = df_all_games[['Title', 'Product Rating', 'User Score', 'User Ratings Count', 'Platforms Info']]"
   ]
  },
  {
   "cell_type": "code",
   "execution_count": 41,
   "id": "d394dd52",
   "metadata": {},
   "outputs": [],
   "source": [
    "df_video_games_unido = pd.merge(df_video_games_limpio, df_all_games_limpio, on='Title', how='left')"
   ]
  },
  {
   "cell_type": "code",
   "execution_count": 42,
   "id": "729d3ad9",
   "metadata": {},
   "outputs": [
    {
     "name": "stdout",
     "output_type": "stream",
     "text": [
      "Ventas_Clase\n",
      "Baja          6477\n",
      "Media         4916\n",
      "Alta          3265\n",
      "Gran Éxito    1633\n",
      "Name: count, dtype: int64\n"
     ]
    }
   ],
   "source": [
    "print(df_video_games_unido['Ventas_Clase'].value_counts())"
   ]
  },
  {
   "cell_type": "code",
   "execution_count": 43,
   "id": "1a3bec95",
   "metadata": {},
   "outputs": [],
   "source": [
    "# eliminamos columnas inneecesarias ## \n",
    "df_video_games_unido.drop(columns=['Rank','Title'], inplace=True) ## dudas de meter plataformas info y user_rating_score ##"
   ]
  },
  {
   "cell_type": "code",
   "execution_count": 44,
   "id": "2d81684c",
   "metadata": {},
   "outputs": [],
   "source": [
    "#eliminacion de consolas con menos de 20 filas registradas #\n",
    "platform_counts = df_video_games_unido['Platform'].value_counts()\n",
    "platforms_to_remove = platform_counts[platform_counts < 20].index.tolist()\n",
    "df_video_games_unido = df_video_games_unido[~df_video_games_unido['Platform'].isin(platforms_to_remove)].copy()\n"
   ]
  },
  {
   "cell_type": "code",
   "execution_count": 45,
   "id": "3af0161d",
   "metadata": {},
   "outputs": [],
   "source": [
    "#renombramos la columna platform ##\n",
    "# Diccionario de reemplazo de nombres de plataformas\n",
    "platform_rename = {\n",
    "    '2600': 'Atari 2600',\n",
    "    'DS': 'Nintendo DS',\n",
    "    'GB': 'Game Boy',\n",
    "    'GBA': 'Game Boy Advance',\n",
    "    'GC': 'GameCube',\n",
    "    'GEN': 'Sega Genesis',\n",
    "    'N64': 'Nintendo 64',\n",
    "    'NES': 'Nintendo Entertainment System',\n",
    "    'PC': 'PC',\n",
    "    'PS': 'PlayStation',\n",
    "    'PS2': 'PlayStation 2',\n",
    "    'PS3': 'PlayStation 3',\n",
    "    'PS4': 'PlayStation 4',\n",
    "    'PSP': 'PlayStation Portable',\n",
    "    'PSV': 'PlayStation Vita',\n",
    "    'SAT': 'Sega Saturn',\n",
    "    'SNES': 'Super Nintendo Entertainment System',\n",
    "    'Wii': 'Nintendo Wii',\n",
    "    'WiiU': 'Nintendo Wii U',\n",
    "    'X360': 'Xbox 360',\n",
    "    'XB': 'Xbox',\n",
    "    'XOne': 'Xbox One',\n",
    "    'DC': 'Dream Cast',\n",
    "    '3DS': 'Nintendo 3DS',\n",
    "}\n",
    "\n",
    "# Reemplazar los nombres\n",
    "df_video_games_unido['Platform'] = df_video_games_unido['Platform'].replace(platform_rename)\n"
   ]
  },
  {
   "cell_type": "code",
   "execution_count": 46,
   "id": "d3799f25",
   "metadata": {},
   "outputs": [],
   "source": [
    "## Eliminamos filas con \"Rated RP FOr Rate Pending\"\n",
    "##Renombramos la columna Product Rating por Nota PEGI ##\n",
    "df_video_games_unido.rename(columns={'Product Rating': 'Nota PEGI'}, inplace=True)\n",
    "df_video_games_unido = df_video_games_unido[df_video_games_unido['Nota PEGI'] != 'Rated RP For Rate Pending'].copy()\n"
   ]
  },
  {
   "cell_type": "code",
   "execution_count": 47,
   "id": "ba4132e5",
   "metadata": {},
   "outputs": [],
   "source": [
    "## Remplazamos las filas de Nota PEGI por valores correspondientes ##\n",
    "nota_pegi_rename = {\n",
    "    'Rated E For Everyone': '3',\n",
    "    'Rated M For Mature': '18',\n",
    "    'Rated T For Teen': '16',\n",
    "    'Rated E +10 For Everyone +10': '12',\n",
    "}\n",
    "df_video_games_unido['Nota PEGI'] = df_video_games_unido['Nota PEGI'].replace(nota_pegi_rename)"
   ]
  },
  {
   "cell_type": "code",
   "execution_count": 48,
   "id": "48285228",
   "metadata": {},
   "outputs": [
    {
     "data": {
      "image/png": "[encoded data removed]",
      "text/plain": [
       "<Figure size 1000x600 with 1 Axes>"
      ]
     },
     "metadata": {},
     "output_type": "display_data"
    }
   ],
   "source": [
    "plt.figure(figsize=(10, 6))\n",
    "sns.boxplot(x=df_video_games_unido['Global_Sales'], color='skyblue')\n",
    "plt.title('Diagrama de Caja y Bigotes de Global Sales')\n",
    "plt.xlabel('Ventas globales (millones)')\n",
    "plt.grid(True)\n",
    "plt.tight_layout()\n",
    "plt.show()"
   ]
  },
  {
   "cell_type": "code",
   "execution_count": 49,
   "id": "26e50533",
   "metadata": {},
   "outputs": [],
   "source": [
    "## clasificamos las consolas en funcion de su antiguedad ##\n",
    "mercado_activo = [\n",
    "    'PlayStation 4','PC', \n",
    "    'Xbox One'\n",
    "]\n",
    "mercado_secundario = [\n",
    "    'Nintendo 3DS',\n",
    "    'PlayStation Vita'\n",
    "]\n",
    "# Función para clasificar en Actual u Obsoleta\n",
    "def clasificar_consola(plataforma):\n",
    "    if plataforma in mercado_activo:\n",
    "        return ' Consola Activa'\n",
    "    elif plataforma in mercado_secundario:\n",
    "        return ' Consola Secundaria'\n",
    "    else:\n",
    "        return 'Obsoleta'\n",
    "\n",
    "#Anañidos nueva columna #\n",
    "df_video_games_unido['Estado_Consola'] = df_video_games_unido['Platform'].apply(clasificar_consola)"
   ]
  },
  {
   "cell_type": "code",
   "execution_count": 50,
   "id": "2b4e85da",
   "metadata": {},
   "outputs": [],
   "source": [
    "### añadimo la columna precios, basado en estimaciones del mercado, en momento ##\n",
    "platform_prices_eur = {\n",
    "    'PlayStation 4': 69.99,\n",
    "    'Xbox One': 69.99,\n",
    "    'PC': 49.99,\n",
    "    'PlayStation 3': 59.99,\n",
    "    'Xbox 360': 59.99,\n",
    "    'Nintendo Wii U': 59.99,\n",
    "    'Nintendo Wii': 49.99,\n",
    "    'Nintendo DS': 39.99,\n",
    "    'Nintendo 3DS': 39.99,\n",
    "    'PlayStation 2': 49.99,\n",
    "    'PlayStation Portable': 39.99,\n",
    "    'Nintendo Entertainment System': 49.99,\n",
    "    'Super Nintendo Entertainment System': 59.99,\n",
    "    'Game Boy': 39.99,\n",
    "    'PlayStation': 49.99,\n",
    "    'Game Boy Advance': 39.99,\n",
    "    'Nintendo 64': 59.99,\n",
    "    'Xbox': 59.99,\n",
    "    'Atari 2600': 29.99,\n",
    "    'GameCube': 49.99,\n",
    "    'Sega Genesis': 49.99,\n",
    "    'Dream Cast': 49.99,\n",
    "    'PlayStation Vita': 49.99,\n",
    "    'Sega Saturn': 59.99,\n",
    "}\n",
    "def assign_launch_price(row):\n",
    "    platform = row['Platform']\n",
    "    return platform_prices_eur.get(platform)\n",
    "df_video_games_unido['Price'] = df_video_games_unido.apply(assign_launch_price, axis=1)\n"
   ]
  },
  {
   "cell_type": "code",
   "execution_count": 51,
   "id": "7cb182db",
   "metadata": {},
   "outputs": [],
   "source": [
    "# anañidos el precio de las consolas cuando salieron al mercado #\n",
    "price_dict = {\n",
    "    'Nintendo Wii': 249,\n",
    "    'Nintendo Entertainment System': 199,  \n",
    "    'Game Boy': 113.5,\n",
    "    'Nintendo DS': 149,\n",
    "    'Xbox 360': 299,\n",
    "    'PlayStation 3': 599,\n",
    "    'PlayStation 2': 399,\n",
    "    'Super Nintendo Entertainment System': 299,\n",
    "    'Game Boy Advance': 120,\n",
    "    'Nintendo 3DS': 250,\n",
    "    'PlayStation 4': 399,\n",
    "    'Nintendo 64': 210,\n",
    "    'PlayStation': 299,\n",
    "    'Xbox': 299,\n",
    "    'PC': 230,\n",
    "    'Atari 2600': 199,\n",
    "    'PlayStation Portable': 249,\n",
    "    'Xbox One': 499,\n",
    "    'GameCube': 199,\n",
    "    'Nintendo Wii U': 299, \n",
    "    'Sega Genesis': 199,\n",
    "    'Dream Cast': 240,\n",
    "    'PlayStation Vita': 249,\n",
    "    'Sega Saturn': 399\n",
    "}\n",
    "def assign_launch_price_platform(row):\n",
    "    platform = row['Platform']\n",
    "    return price_dict.get(platform)\n",
    "df_video_games_unido['Price_Platform'] = df_video_games_unido.apply(assign_launch_price_platform, axis=1)"
   ]
  },
  {
   "cell_type": "code",
   "execution_count": 52,
   "id": "1f88d07a",
   "metadata": {},
   "outputs": [
    {
     "name": "stderr",
     "output_type": "stream",
     "text": [
      "C:\\Users\\pablo\\AppData\\Local\\Temp\\ipykernel_22776\\2351189849.py:12: FutureWarning: A value is trying to be set on a copy of a DataFrame or Series through chained assignment using an inplace method.\n",
      "The behavior will change in pandas 3.0. This inplace method will never work because the intermediate object on which we are setting values always behaves as a copy.\n",
      "\n",
      "For example, when doing 'df[col].method(value, inplace=True)', try using 'df.method({col: value}, inplace=True)' or df[col] = df[col].method(value) instead, to perform the operation inplace on the original object.\n",
      "\n",
      "\n",
      "  df_video_games_unido['User Score'].fillna(df_video_games_unido['User Score'].mean(), inplace=True)\n"
     ]
    }
   ],
   "source": [
    "## Rellenamos los valores nulos de 'User Score' con la media en base a 'Genre' y 'Platform' ##\n",
    "def imputar_user_score(row):\n",
    "    if pd.isna(row['User Score']):\n",
    "        media = df_video_games_unido[\n",
    "            (df_video_games_unido['Platform'] == row['Platform']) &\n",
    "            (df_video_games_unido['Genre'] == row['Genre'])\n",
    "        ]['User Score'].mean()\n",
    "        return media\n",
    "    else:\n",
    "        return row['User Score']\n",
    "df_video_games_unido['User Score'] = df_video_games_unido.apply(imputar_user_score, axis=1)\n",
    "df_video_games_unido['User Score'].fillna(df_video_games_unido['User Score'].mean(), inplace=True)\n"
   ]
  },
  {
   "cell_type": "code",
   "execution_count": 53,
   "id": "dce24c56",
   "metadata": {},
   "outputs": [
    {
     "name": "stderr",
     "output_type": "stream",
     "text": [
      "C:\\Users\\pablo\\AppData\\Local\\Temp\\ipykernel_22776\\195433462.py:13: FutureWarning: A value is trying to be set on a copy of a DataFrame or Series through chained assignment using an inplace method.\n",
      "The behavior will change in pandas 3.0. This inplace method will never work because the intermediate object on which we are setting values always behaves as a copy.\n",
      "\n",
      "For example, when doing 'df[col].method(value, inplace=True)', try using 'df.method({col: value}, inplace=True)' or df[col] = df[col].method(value) instead, to perform the operation inplace on the original object.\n",
      "\n",
      "\n",
      "  df_video_games_unido['Nota PEGI'].fillna(df_video_games_unido['Nota PEGI'].mode()[0],inplace=True)\n"
     ]
    }
   ],
   "source": [
    "## Rellenamos los valores nulos de 'Nota PEGI' con la moda en base a 'Genre' y 'Platform' ##\n",
    "def imputar_pegi(row):\n",
    "    if pd.isna(row['Nota PEGI']):\n",
    "        subset = df_video_games_unido[\n",
    "            (df_video_games_unido['Platform'] == row['Platform']) &\n",
    "            (df_video_games_unido['Genre'] == row['Genre'])\n",
    "        ]['Nota PEGI']\n",
    "        moda = subset.mode()\n",
    "        return moda[0] if not moda.empty else np.nan\n",
    "    else:\n",
    "        return row['Nota PEGI']\n",
    "df_video_games_unido['Nota PEGI'] = df_video_games_unido.apply(imputar_pegi, axis=1)\n",
    "df_video_games_unido['Nota PEGI'].fillna(df_video_games_unido['Nota PEGI'].mode()[0],inplace=True)"
   ]
  },
  {
   "cell_type": "code",
   "execution_count": 54,
   "id": "b27b4ebe",
   "metadata": {},
   "outputs": [],
   "source": [
    "# Anadismos una columna que muestre el año de lanzamiento de la consola #\n",
    "year_lanzamiento = {\n",
    "    'Atari 2600': 1977, 'Nintendo DS': 2004, 'Game Boy Advance': 2001,\n",
    "    'GameCube': 2001, 'Sega Genesis': 1988, 'Nintendo 64': 1996, 'Nintendo Entertainment System': 1983, 'PC': 1980,\n",
    "    'PlayStation': 1994, 'PlayStation 2': 2000, 'PlayStation 3': 2006, 'PlayStation 4': 2013, 'PlayStation Portable': 2004, \n",
    "    'PlayStation Vita': 2011, 'Sega Saturn': 1994, 'Super Nintendo Entertainment System': 1990,\n",
    "    'Nintendo Wii': 2006, 'Nintendo Wii U': 2012, 'Xbox 360': 2005, 'Xbox': 2001, 'Xbox One': 2013,\n",
    "    'Game Boy': 1989, 'Dream Cast': 1998, 'Nintendo 3DS': 2011\n",
    "}\n",
    "df_video_games_unido['Year_Consola'] = df_video_games_unido['Platform'].map(year_lanzamiento)"
   ]
  },
  {
   "cell_type": "code",
   "execution_count": 55,
   "id": "6ddd5d76",
   "metadata": {},
   "outputs": [
    {
     "name": "stdout",
     "output_type": "stream",
     "text": [
      "Forma del dataframe combinado: (16259, 19)\n",
      "Name                     0\n",
      "Platform                 0\n",
      "Year                     0\n",
      "Genre                    0\n",
      "Publisher                0\n",
      "NA_Sales                 0\n",
      "EU_Sales                 0\n",
      "JP_Sales                 0\n",
      "Other_Sales              0\n",
      "Global_Sales             0\n",
      "Ventas_Clase             0\n",
      "Nota PEGI                0\n",
      "User Score               0\n",
      "User Ratings Count    9894\n",
      "Platforms Info        8549\n",
      "Estado_Consola           0\n",
      "Price                    0\n",
      "Price_Platform           0\n",
      "Year_Consola             0\n",
      "dtype: int64\n"
     ]
    }
   ],
   "source": [
    "print(\"Forma del dataframe combinado:\", df_video_games_unido.shape)\n",
    "print(df_video_games_unido.isnull().sum())"
   ]
  },
  {
   "cell_type": "code",
   "execution_count": 56,
   "id": "e68b823a",
   "metadata": {},
   "outputs": [
    {
     "name": "stdout",
     "output_type": "stream",
     "text": [
      "Name                   object\n",
      "Platform               object\n",
      "Year                    int64\n",
      "Genre                  object\n",
      "Publisher              object\n",
      "NA_Sales              float64\n",
      "EU_Sales              float64\n",
      "JP_Sales              float64\n",
      "Other_Sales           float64\n",
      "Global_Sales          float64\n",
      "Ventas_Clase           object\n",
      "Nota PEGI              object\n",
      "User Score            float64\n",
      "User Ratings Count    float64\n",
      "Platforms Info         object\n",
      "Estado_Consola         object\n",
      "Price                 float64\n",
      "Price_Platform        float64\n",
      "Year_Consola            int64\n",
      "dtype: object\n",
      "\n",
      "Estadísticas de ventas por región y globales:\n",
      "           NA_Sales      EU_Sales      JP_Sales   Other_Sales  Global_Sales\n",
      "count  16259.000000  16259.000000  16259.000000  16259.000000  16259.000000\n",
      "mean       0.266108      0.147998      0.078764      0.048518      0.541662\n",
      "std        0.823139      0.509761      0.312147      0.190258      1.568751\n",
      "min        0.000000      0.000000      0.000000      0.000000      0.010000\n",
      "25%        0.000000      0.000000      0.000000      0.000000      0.060000\n",
      "50%        0.080000      0.020000      0.000000      0.010000      0.170000\n",
      "75%        0.240000      0.110000      0.040000      0.040000      0.480000\n",
      "max       41.490000     29.020000     10.220000     10.570000     82.740000\n"
     ]
    }
   ],
   "source": [
    "print(df_video_games_unido.dtypes)\n",
    "print(\"\\nEstadísticas de ventas por región y globales:\")\n",
    "print(df_video_games_unido[['NA_Sales', 'EU_Sales', 'JP_Sales', 'Other_Sales', 'Global_Sales']].describe())"
   ]
  },
  {
   "cell_type": "code",
   "execution_count": 57,
   "id": "747ba052",
   "metadata": {},
   "outputs": [
    {
     "name": "stdout",
     "output_type": "stream",
     "text": [
      "\n",
      "Dimensiones del dataset:\n",
      "Filas: 16259, Columnas: 19\n"
     ]
    }
   ],
   "source": [
    "print(\"\\nDimensiones del dataset:\")\n",
    "print(f\"Filas: {df_video_games_unido.shape[0]}, Columnas: {df_video_games_unido.shape[1]}\")"
   ]
  },
  {
   "cell_type": "code",
   "execution_count": 59,
   "id": "974e32aa",
   "metadata": {},
   "outputs": [],
   "source": [
    "df_video_games_unido.to_csv('Data/video_games_sales_completo.csv', index=False)"
   ]
  }
 ],
 "metadata": {
  "kernelspec": {
   "display_name": "proyecto_final",
   "language": "python",
   "name": "python3"
  },
  "language_info": {
   "codemirror_mode": {
    "name": "ipython",
    "version": 3
   },
   "file_extension": ".py",
   "mimetype": "text/x-python",
   "name": "python",
   "nbconvert_exporter": "python",
   "pygments_lexer": "ipython3",
   "version": "3.13.2"
  }
 },
 "nbformat": 4,
 "nbformat_minor": 5
}
